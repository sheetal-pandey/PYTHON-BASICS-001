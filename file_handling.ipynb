{
  "nbformat": 4,
  "nbformat_minor": 0,
  "metadata": {
    "colab": {
      "provenance": []
    },
    "kernelspec": {
      "name": "python3",
      "display_name": "Python 3"
    },
    "language_info": {
      "name": "python"
    }
  },
  "cells": [
    {
      "cell_type": "markdown",
      "source": [
        "Exception handling is the way to handle errors so that the program does not crash abruptly.\n",
        "When an error occurs during execution, python stops the program and displays an error message. To prevent this , we use try() except blocks to catch and handle exception  "
      ],
      "metadata": {
        "id": "KvHEM_bCUnvk"
      }
    },
    {
      "cell_type": "markdown",
      "source": [
        "try: code blocks where exception might occurs\n",
        "\n",
        "\n",
        "except: handles the exception\n",
        "\n",
        "\n",
        "else: executes if no exception occurs\n",
        "\n",
        "finally: executes always\n",
        "\n",
        "raise: used to trigger an exception manually"
      ],
      "metadata": {
        "id": "CA2tzMDeU8q5"
      }
    },
    {
      "cell_type": "code",
      "source": [
        "# try:\n",
        "  # code that may raise an exception\n",
        "# except exceptiontype:\n",
        "  # code to handle the exception"
      ],
      "metadata": {
        "id": "F-VE69rcWoiI"
      },
      "execution_count": null,
      "outputs": []
    },
    {
      "cell_type": "code",
      "source": [
        "try:\n",
        "  num1=int(input(\"enter a number\"))\n",
        "  num2=int(input(\"enter another number\"))\n",
        "  print(\"result:\",num1/num2)\n",
        "except ZeroDivisionError:\n",
        "  print(\"error can not divide by zero\")"
      ],
      "metadata": {
        "colab": {
          "base_uri": "https://localhost:8080/"
        },
        "id": "xlqaqnopXUq4",
        "outputId": "2a2f79d2-67bf-45b4-e7e9-bc3fc4ccbce5"
      },
      "execution_count": null,
      "outputs": [
        {
          "output_type": "stream",
          "name": "stdout",
          "text": [
            "enter a number5\n",
            "enter another number0\n",
            "error can not divide by zero\n"
          ]
        }
      ]
    }
  ]
}