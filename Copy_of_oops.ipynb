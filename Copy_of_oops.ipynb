{
  "nbformat": 4,
  "nbformat_minor": 0,
  "metadata": {
    "colab": {
      "provenance": []
    },
    "kernelspec": {
      "name": "python3",
      "display_name": "Python 3"
    },
    "language_info": {
      "name": "python"
    }
  },
  "cells": [
    {
      "cell_type": "markdown",
      "source": [
        "# Oops Concepts\n",
        "\n",
        "Oops is the object oriented programming where we construct programs using classes and objects . it helps us to model real word entities\n",
        "\n",
        "Benefits are reusability , modularity, scalibilty\n",
        "\n",
        "#Basic Concepts\n",
        "\n",
        "1. class\n",
        "\n",
        "2. objects\n",
        "\n",
        "3. attributes\n",
        "\n",
        "4. methods\n",
        "\n",
        "\n",
        "\n",
        "\n",
        "\n"
      ],
      "metadata": {
        "id": "8EqbyhZRJv7J"
      }
    },
    {
      "cell_type": "markdown",
      "source": [
        "#Class\n",
        "\n",
        "A class is like a blue print for creating objects.\n",
        "\n",
        "It defines attributes (variables and methods and functions)\n",
        "\n",
        "#Object\n",
        "\n",
        "An object is an instance of class.Each object has its own copy of attributes but methods are shared\n",
        "\n",
        "#Attributes\n",
        "\n",
        "Variables that belong to class/object\n",
        "\n",
        "there are two types of attributes:\n",
        "\n",
        "1. instance attributes:unique for each objects\n",
        "2. class attributes :shared by all objects\n",
        "\n",
        "\n",
        "# METHODS\n",
        "\n",
        " functions defined inside a class\n",
        "\n",
        " used to perform actions on object data\n",
        "\n",
        " always takes \"self\" as first arguement\n",
        "\n",
        "\n",
        " #__init__method(constructor)\n",
        "\n",
        " special method that runs automatically when you create an object\n",
        " used for initialization of attributes\n",
        "\n"
      ],
      "metadata": {
        "id": "qmJV8sJoK941"
      }
    },
    {
      "cell_type": "markdown",
      "source": [],
      "metadata": {
        "id": "2Yb-TEXZK5li"
      }
    },
    {
      "cell_type": "code",
      "source": [
        "# class_example\n",
        "class car:\n",
        "  variants=\"tata\"  #class attributes\n",
        "  def __init__(self,name,model):\n",
        "    self.name= name    #instance attributes\n",
        "    self.model= model   #instance attributes\n",
        "#creating an object of the car class\n",
        "car1= car(\"tata nexon\",2025)\n",
        "print(car1.name)\n",
        "print(car1.variants)\n",
        "print(car1.model)\n"
      ],
      "metadata": {
        "colab": {
          "base_uri": "https://localhost:8080/"
        },
        "id": "Z-t-LoVuOMSW",
        "outputId": "96f2b8b8-9ea1-47ad-a414-f5f32cd69146"
      },
      "execution_count": null,
      "outputs": [
        {
          "output_type": "stream",
          "name": "stdout",
          "text": [
            "tata nexon\n",
            "tata\n",
            "2025\n"
          ]
        }
      ]
    },
    {
      "cell_type": "code",
      "source": [],
      "metadata": {
        "id": "CoJ6rzh-RQdF"
      },
      "execution_count": null,
      "outputs": []
    },
    {
      "cell_type": "markdown",
      "source": [
        "# self :\n",
        " self parameter is the reference to current instance of class ; it allows us to access attributes and methods of the object\n",
        " eg; in the above example we created car class with both class and instance attributes,  then demonstrate how to access them using the self parameter\n",
        "\" self.name\" = it refers to name attributes of the object (car1) calling the method\n",
        "\n",
        " self allows methods with in the class to access and modify the objects attributes making each object independent of others"
      ],
      "metadata": {
        "id": "nhW2WX8HRajC"
      }
    },
    {
      "cell_type": "markdown",
      "source": [
        "#INHERITANCE\n",
        "\n",
        "INHERITANCE allows a class (child class) to acquire properties and methods of another class (parent class).\n",
        "\n",
        "it supports hierarchial classification and promotes code reuse\n",
        "\n",
        "#Types of inheritance\n",
        "\n",
        "1. single inheritance: a child class inherits from a single parent class\n",
        "2. multiple inheritance: a child class inherits from more than one parent class\n",
        "3. mutilevel inheritance: a child class inherits from a parent class which in turn inherits from another class\n",
        "4. heirarchial inheritance: multiple child classes inherit from a single parent class\n",
        "5. hybrid inheritance: a combination of two or more types of inheritance\n",
        "\n",
        "\n"
      ],
      "metadata": {
        "id": "7PWDudtdUJCF"
      }
    },
    {
      "cell_type": "markdown",
      "source": [
        "#POLYMORPHISM\n",
        "Polymorphism means same operation different behaviour it allows functions or methods with the same name to work differently depending on the type of object they are acting\n"
      ],
      "metadata": {
        "id": "7JFdwZqg-vw7"
      }
    },
    {
      "cell_type": "markdown",
      "source": [
        "#compile type polymorphism\n",
        "this type of polymorphism determine during the compilation of the program it allows methods or operator with the same name to behave differently based on their input parameters or\n",
        "\n",
        "\n",
        "In python true compile time polymorphism not supported instead it mimics using default arguements OR KEYWORD variable length arguements"
      ],
      "metadata": {
        "id": "wqg95sXx__fN"
      }
    },
    {
      "cell_type": "code",
      "source": [
        "#POLYMORPHISM\n",
        "s=\"PYTHON\"\n",
        "print(len(s))"
      ],
      "metadata": {
        "colab": {
          "base_uri": "https://localhost:8080/"
        },
        "id": "_jvCJVqdB-_8",
        "outputId": "619b445e-cb8c-4b60-fb06-a868458e8e0d"
      },
      "execution_count": null,
      "outputs": [
        {
          "output_type": "stream",
          "name": "stdout",
          "text": [
            "6\n"
          ]
        }
      ]
    },
    {
      "cell_type": "code",
      "source": [
        "lis=[1,2,3,4,5,6]\n",
        "print(len(lis))"
      ],
      "metadata": {
        "colab": {
          "base_uri": "https://localhost:8080/"
        },
        "id": "z_xcTCvPCd4D",
        "outputId": "9b226b82-4502-4039-aec0-ffce63123b3e"
      },
      "execution_count": null,
      "outputs": [
        {
          "output_type": "stream",
          "name": "stdout",
          "text": [
            "6\n"
          ]
        }
      ]
    },
    {
      "cell_type": "code",
      "source": [],
      "metadata": {
        "id": "YtFaWG4uDvSL"
      },
      "execution_count": null,
      "outputs": []
    },
    {
      "cell_type": "code",
      "source": [
        "dic={\"name\":\"sheetal\",\"class\":\"msc\",\"specialisation\":\"data science\"}\n",
        "print(len(dic))"
      ],
      "metadata": {
        "colab": {
          "base_uri": "https://localhost:8080/"
        },
        "id": "iw75LXx1CqAW",
        "outputId": "bb543789-71c7-4749-f8c0-05ffc57bdeef"
      },
      "execution_count": null,
      "outputs": [
        {
          "output_type": "stream",
          "name": "stdout",
          "text": [
            "3\n"
          ]
        }
      ]
    },
    {
      "cell_type": "code",
      "source": [
        "lis1=[11,23,45,67,97,45]\n",
        "lis2=[\"trips\",\"random\",\"minor\"]\n",
        "print(lis1+lis2)"
      ],
      "metadata": {
        "colab": {
          "base_uri": "https://localhost:8080/"
        },
        "id": "t3Fa1OIQD4x6",
        "outputId": "3852f3af-0764-42d5-9a3d-b9e93486172d"
      },
      "execution_count": null,
      "outputs": [
        {
          "output_type": "stream",
          "name": "stdout",
          "text": [
            "[11, 23, 45, 67, 97, 45, 'trips', 'random', 'minor']\n"
          ]
        }
      ]
    },
    {
      "cell_type": "code",
      "source": [
        "s1=\"SHEE\"\n",
        "s2=\"TAL\"\n",
        "print(s1+s2)"
      ],
      "metadata": {
        "colab": {
          "base_uri": "https://localhost:8080/"
        },
        "id": "PoBitx_5FCOx",
        "outputId": "528f1159-df2e-4091-d619-613df1f41aa9"
      },
      "execution_count": null,
      "outputs": [
        {
          "output_type": "stream",
          "name": "stdout",
          "text": [
            "SHEETAL\n"
          ]
        }
      ]
    },
    {
      "cell_type": "code",
      "source": [
        "x,y=11,23\n",
        "print(x+y)"
      ],
      "metadata": {
        "colab": {
          "base_uri": "https://localhost:8080/"
        },
        "id": "Q3cUyrmHFRBW",
        "outputId": "d9b5906a-c9c4-42bb-bbe6-f65e3cd33e76"
      },
      "execution_count": null,
      "outputs": [
        {
          "output_type": "stream",
          "name": "stdout",
          "text": [
            "34\n"
          ]
        }
      ]
    },
    {
      "cell_type": "code",
      "source": [
        "class dog:\n",
        "  def speak(self):\n",
        "    return \"bark\"\n",
        "\n",
        "class cat:\n",
        "  def speak(self):\n",
        "    return \"meow\"\n",
        "\n",
        "animals1=dog()\n",
        "animals2=cat()\n",
        "animals = [dog(), cat()]\n",
        "\n",
        "for animal in animals:\n",
        "  print(animal.speak())\n",
        "\n"
      ],
      "metadata": {
        "colab": {
          "base_uri": "https://localhost:8080/"
        },
        "id": "l6QywE3gFbP3",
        "outputId": "8fe4502a-8965-4330-92b9-729c82c06159"
      },
      "execution_count": null,
      "outputs": [
        {
          "output_type": "stream",
          "name": "stdout",
          "text": [
            "bark\n",
            "meow\n"
          ]
        }
      ]
    },
    {
      "cell_type": "code",
      "source": [],
      "metadata": {
        "id": "9YpxAQWZGft_"
      },
      "execution_count": null,
      "outputs": []
    },
    {
      "cell_type": "markdown",
      "source": [
        "#RUN TIME POLYMORPHISM\n",
        "\n",
        "This happens when the method to be executed is decided when the program is .This is achieved by method overwriting or duck typing"
      ],
      "metadata": {
        "id": "o8xqYpxgJL1S"
      }
    },
    {
      "cell_type": "code",
      "source": [
        "class bird:\n",
        "  def can_fly(self):\n",
        "     print(\"most birds can fly\")\n",
        "class penguin:\n",
        "  def can_fly(self):\n",
        "    print(\"penguins can not fly\")\n",
        "birdss=[bird(),penguin()]\n",
        "for  bi in birdss:\n",
        "  print(bi.can_fly())\n",
        "\n",
        "\n"
      ],
      "metadata": {
        "colab": {
          "base_uri": "https://localhost:8080/"
        },
        "id": "gDzIT3RoJ3xJ",
        "outputId": "d44c3b77-c8a5-42ed-99e0-67dd14c3a6b5"
      },
      "execution_count": null,
      "outputs": [
        {
          "output_type": "stream",
          "name": "stdout",
          "text": [
            "most birds can fly\n",
            "None\n",
            "penguins can not fly\n",
            "None\n"
          ]
        }
      ]
    },
    {
      "cell_type": "code",
      "source": [
        "class laptop:\n",
        "  def code(self):\n",
        "    print(\"coding on laptop\")\n",
        "class mobile:\n",
        "  def code(self):\n",
        "    print(\"coding on phone\")\n",
        "def coder(device):\n",
        " print(device.code())\n",
        "coder(laptop())\n",
        "coder(mobile())"
      ],
      "metadata": {
        "colab": {
          "base_uri": "https://localhost:8080/"
        },
        "id": "PkzUweFULh-A",
        "outputId": "12c9a958-432a-4fa6-b110-21114f8119b1"
      },
      "execution_count": null,
      "outputs": [
        {
          "output_type": "stream",
          "name": "stdout",
          "text": [
            "coding on laptop\n",
            "None\n",
            "coding on phone\n",
            "None\n"
          ]
        }
      ]
    },
    {
      "cell_type": "code",
      "source": [],
      "metadata": {
        "id": "kgdND6VhMS65"
      },
      "execution_count": null,
      "outputs": []
    },
    {
      "cell_type": "markdown",
      "source": [
        "#duck typing vs ,method overriding\n",
        "\n",
        "method overriding occurs within an inheritance hierarchy  \n",
        "\n",
        "a sub class provided its own specific implimentation for a method that is already defined in its parents class.\n",
        "\n",
        "\n",
        "the method in thhe sub  class has the same name and signature(parameters) as the methods in the parent class\n",
        "\n",
        "\n",
        "\n",
        "duck typing is a principle in dynamically typed languages like python where the type or class of an object is less important than whether it implements the required methods. no inheritance is required . objects are considered compatible if they exhibit the same behaviour"
      ],
      "metadata": {
        "id": "DZDdl02uQSmG"
      }
    },
    {
      "cell_type": "code",
      "source": [
        "class bird:\n",
        "  def can_fly(self):\n",
        "     print(\"most birds can fly\")\n",
        "class penguin(bird):\n",
        "  def can_fly(self):\n",
        "    print(\"penguins can not fly\")\n",
        "birdss=[bird(),penguin()]\n",
        "for  bi in birdss:\n",
        "  print(bi.can_fly())"
      ],
      "metadata": {
        "id": "yJ4l0WZtRutQ"
      },
      "execution_count": null,
      "outputs": []
    },
    {
      "cell_type": "markdown",
      "source": [
        "#Encapsulation\n",
        "Encapsulation means binding or wrapping the data (variables and methods)that operates on that data into a single unit(class).\n",
        "\n",
        "Encapsulation is about protecting the data from outside interferance and misuse . It allows data hiding meaning that internal state of an object should not be directly accessed.Instead it should be accessed or modify through methods\n",
        "\n",
        "Python achieves encapsulation through\n",
        "\n",
        "1. public members\n",
        "2. protected members : prefix the variable with 1_\n",
        "3. private members: prefix with 2 underscores and it makes the variables in accessible from outside the class\n"
      ],
      "metadata": {
        "id": "ue8d7bz-AU7S"
      }
    },
    {
      "cell_type": "code",
      "source": [
        "#public members\n",
        "class student:\n",
        "  def __init__(self,name,age):\n",
        "    self.name = name\n",
        "    self.age = age\n",
        "obj=student(\"Sheetal Pandey\",21)\n",
        "print(obj.name)\n",
        "print(obj.age)"
      ],
      "metadata": {
        "colab": {
          "base_uri": "https://localhost:8080/"
        },
        "id": "aI5RhyvBClnG",
        "outputId": "f791cbb1-8202-4745-cc97-739c149f6f75"
      },
      "execution_count": null,
      "outputs": [
        {
          "output_type": "stream",
          "name": "stdout",
          "text": [
            "Sheetal Pandey\n",
            "21\n"
          ]
        }
      ]
    },
    {
      "cell_type": "code",
      "source": [
        "#protected members\n",
        "class student:\n",
        "  def __init__(self,name,marks):\n",
        "    self.marks=marks\n",
        "    self._marks=marks  #protected members\n",
        "  def _display(self):\n",
        "    print(self._marks)\n",
        "obj=student(\"sheetal pandey\",13)\n",
        "print(obj._display())\n",
        "print(obj._marks)"
      ],
      "metadata": {
        "colab": {
          "base_uri": "https://localhost:8080/"
        },
        "id": "zQXK_fgQDx8c",
        "outputId": "ed5f33d3-6a50-4351-c1a0-8de0a6d9dfd2"
      },
      "execution_count": null,
      "outputs": [
        {
          "output_type": "stream",
          "name": "stdout",
          "text": [
            "13\n",
            "None\n",
            "13\n"
          ]
        }
      ]
    },
    {
      "cell_type": "code",
      "source": [
        "#it is conventionally protected not enforced, we can not strictly block the access"
      ],
      "metadata": {
        "id": "ohb8OUxhKNV1"
      },
      "execution_count": null,
      "outputs": []
    },
    {
      "cell_type": "code",
      "source": [
        "#private members\n",
        "class student:\n",
        "  def __init__(self,name,marks):\n",
        "    self.__marks=marks  #protected members\n",
        "  def _display(self):\n",
        "    print(self.__marks)\n",
        "obj=student(\"sheetal pandey\",13)\n",
        "print(obj._display())\n",
        "print(obj._student__marks)"
      ],
      "metadata": {
        "colab": {
          "base_uri": "https://localhost:8080/"
        },
        "id": "2HJZJf9NK0bE",
        "outputId": "ca19375d-e669-4730-fb15-a56bbd02af74"
      },
      "execution_count": null,
      "outputs": [
        {
          "output_type": "stream",
          "name": "stdout",
          "text": [
            "13\n",
            "None\n",
            "13\n"
          ]
        }
      ]
    },
    {
      "cell_type": "markdown",
      "source": [
        "**Accessing private members**:\n",
        "Even though private variables are hidden you can still access them using a special syntax.\n",
        "\n"
      ],
      "metadata": {
        "id": "onu0b22XOwOv"
      }
    },
    {
      "cell_type": "markdown",
      "source": [
        "#INHERITANCE IN PYTHON\n",
        "\n",
        "Inheritance allows a class(called the child or derived class)to acquire properties and methods from another class(PARENT CLASS)\n",
        "\n"
      ],
      "metadata": {
        "id": "9Fnwqmd1P5Ot"
      }
    },
    {
      "cell_type": "code",
      "source": [
        "class vehcile:\n",
        "  def start(self):\n",
        "    print(\"vehcile has started\")\n",
        "\n",
        "class car(vehcile):\n",
        "  def drive(self):\n",
        "    print(\"car is being driven\")\n",
        "c=car()\n",
        "c.start()\n",
        "c.drive()"
      ],
      "metadata": {
        "id": "cylljl_jLMGR",
        "colab": {
          "base_uri": "https://localhost:8080/"
        },
        "outputId": "f368f117-a977-4738-ae2e-20aaea8e5274"
      },
      "execution_count": null,
      "outputs": [
        {
          "output_type": "stream",
          "name": "stdout",
          "text": [
            "vehcile has started\n",
            "car is being driven\n"
          ]
        }
      ]
    },
    {
      "cell_type": "markdown",
      "source": [
        "#Using The Super FUNCTION\n",
        "\n",
        "SUper is used to call methods from parent class inside the child class . most commonly every class used constructor"
      ],
      "metadata": {
        "id": "p5H28J9PJAYA"
      }
    },
    {
      "cell_type": "code",
      "source": [
        "class vehcile:\n",
        "  def __init__(self,brand):\n",
        "    self.brand=brand\n",
        "    print(\"vehcile constructor has been called\")\n",
        "class car(vehcile):\n",
        "  def __init__(self,brand,model):\n",
        "   super().__init__(brand)\n",
        "   self.model=model\n",
        "   print(\"car constructor called\")\n",
        "  def display(self):\n",
        "    print(self.brand)\n",
        "    print(self.model)\n",
        "c=car(\"toyota\",\"innova\")\n",
        "c.display()"
      ],
      "metadata": {
        "colab": {
          "base_uri": "https://localhost:8080/"
        },
        "id": "yyI5ZZlGI0LD",
        "outputId": "dc51a0d3-4666-47d6-e590-264133d34b36"
      },
      "execution_count": null,
      "outputs": [
        {
          "output_type": "stream",
          "name": "stdout",
          "text": [
            "vehcile constructor has been called\n",
            "car constructor called\n",
            "toyota\n",
            "innova\n"
          ]
        }
      ]
    },
    {
      "cell_type": "code",
      "source": [
        "#multiple inheritance\n",
        "class father:\n",
        "  def skills(self):\n",
        "    print(\"good in buisness\")\n",
        "class mother:\n",
        "  def skills(self):\n",
        "    print(\"good in cooking\")\n",
        "class child(mother,father):\n",
        "  def show(self):\n",
        "    print(\"child has both skills\")\n",
        "c=child()\n",
        "c.skills()\n",
        "c.show()"
      ],
      "metadata": {
        "colab": {
          "base_uri": "https://localhost:8080/"
        },
        "id": "AMiIHlCbK-n9",
        "outputId": "afab3d5e-4cc5-4a35-aab9-018a44834d8c"
      },
      "execution_count": null,
      "outputs": [
        {
          "output_type": "stream",
          "name": "stdout",
          "text": [
            "good in cooking\n",
            "child has both skills\n"
          ]
        }
      ]
    },
    {
      "cell_type": "markdown",
      "source": [
        "#MRO(method resolution order)\n",
        "\n",
        "In python inheritance, **MRO** follows a specific sequence to determine which method to envoke when it encounters multiple classes with the same  method name."
      ],
      "metadata": {
        "id": "MHr-RRw7OhSZ"
      }
    },
    {
      "cell_type": "code",
      "source": [
        "#multilevel class\n",
        "class grandfather:\n",
        "  def house(self):\n",
        "    print(\"owns a big house\")\n",
        "class father(grandfather):\n",
        "  def car(self):\n",
        "    print(\"owns a car\")\n",
        "class son(father):\n",
        "  def bike(self):\n",
        "    print(\"owns a bike\")\n",
        "c=son()\n",
        "c.house()\n",
        "c.car()\n",
        "c.bike()"
      ],
      "metadata": {
        "colab": {
          "base_uri": "https://localhost:8080/"
        },
        "id": "1Kfy_IZPOhA4",
        "outputId": "4607ca23-d9de-4e8f-ae7e-79fe56118342"
      },
      "execution_count": null,
      "outputs": [
        {
          "output_type": "stream",
          "name": "stdout",
          "text": [
            "owns a big house\n",
            "owns a car\n",
            "owns a bike\n"
          ]
        }
      ]
    },
    {
      "cell_type": "code",
      "source": [
        "#hierarchial inheritance\n",
        "class animal:\n",
        "  def sound(self):\n",
        "    print(\"sound of animals:\")\n",
        "class dog(animal):\n",
        "  def bark(self):\n",
        "    print(\"dogs barks\")\n",
        "class cat(animal):\n",
        "  def meow(self):\n",
        "    print(\"cat meows\")\n",
        "class cow(animal):\n",
        "  def moo(self):\n",
        "    print(\"cow moo\")\n",
        "c=cat()\n",
        "c.sound()\n",
        "c.meow()\n",
        "c1=cow()\n",
        "c1.sound()\n",
        "c1.moo()\n",
        "d=dog()\n",
        "d.sound()\n",
        "d.bark()\n"
      ],
      "metadata": {
        "colab": {
          "base_uri": "https://localhost:8080/"
        },
        "id": "LSEBDAWsNiAj",
        "outputId": "720ca29e-9142-4f48-8789-2fff01708976"
      },
      "execution_count": null,
      "outputs": [
        {
          "output_type": "stream",
          "name": "stdout",
          "text": [
            "sound of animals:\n",
            "cat meows\n",
            "sound of animals:\n",
            "cow moo\n",
            "sound of animals:\n",
            "dogs barks\n"
          ]
        }
      ]
    },
    {
      "cell_type": "code",
      "source": [
        "#hybrid inheritance\n",
        "class vehcile:\n",
        "  def info(self):\n",
        "    print(\"this a vehcile\")\n",
        "class car(vehcile):\n",
        "  def car_info(self):\n",
        "    print(\"this is a car\")\n",
        "class electric:\n",
        "  def battery(self):\n",
        "    print(\"this vehcile uses battery\")\n",
        "class electric_car(electric,car):\n",
        "  def ece_info(self):\n",
        "    print(\"electric car combines car and electric features\")\n",
        "obj=electric_car()\n",
        "obj.info()\n",
        "obj.car_info()\n",
        "obj.battery()\n",
        "obj.ece_info()"
      ],
      "metadata": {
        "colab": {
          "base_uri": "https://localhost:8080/"
        },
        "id": "1U9-OAi4Tyjs",
        "outputId": "392d25d8-0c86-488b-cb80-e9d86872b3b1"
      },
      "execution_count": null,
      "outputs": [
        {
          "output_type": "stream",
          "name": "stdout",
          "text": [
            "this a vehcile\n",
            "this is a car\n",
            "this vehcile uses battery\n",
            "electric car combines car and electric features\n"
          ]
        }
      ]
    },
    {
      "cell_type": "code",
      "source": [],
      "metadata": {
        "id": "OJMceozuW_ZJ"
      },
      "execution_count": null,
      "outputs": []
    },
    {
      "cell_type": "markdown",
      "source": [
        "#ABSTRACTION IN PYTHON\n",
        "Abstraction means hiding complex internal details of a class or system or showing only the essential features to the users.\n",
        "* It helps in reducing complexity and makes the system easier to use.\n",
        "* It hides unecessary details.\n",
        "* It provides simple and clean interface.\n",
        "* iT improves code reusability and readibility\n",
        "* iT ensures consistent structure for related classes.\n",
        "\n",
        "IN Python, abstraction is mainly achieved using the ABC module (abstract base classes) and abstract methods.\n"
      ],
      "metadata": {
        "id": "Tcz_p3j0YpKj"
      }
    },
    {
      "cell_type": "markdown",
      "source": [
        "#ABSTRACT CLASS\n",
        "\n",
        "* It acts as a blue print for other classes.\n",
        "* its primary purpose is to define a common interface or contract that all its concrete to subclasses must adhere to.\n",
        "* abstract classes can not be instatied directly because they contain one or more abstract methods\n",
        "\n",
        "\n",
        "#Abstract method\n",
        "\n",
        "a method that is declared but not defined .\n",
        "\n",
        "all subclasses must provide their own implementation"
      ],
      "metadata": {
        "id": "Z16o2kFvbhO-"
      }
    },
    {
      "cell_type": "markdown",
      "source": [
        "#abstract class in action"
      ],
      "metadata": {
        "id": "JhVomWS6Dd_6"
      }
    },
    {
      "cell_type": "code",
      "source": [
        "from abc  import ABC , abstractmethod\n",
        "class class_name(ABC):\n",
        "  @abstractmethod\n",
        "  def method_name(self):\n",
        "    pass\n",
        "#any class that inherits from this abstract class must implement all abstract methods"
      ],
      "metadata": {
        "id": "8uTcVwbcDrKp"
      },
      "execution_count": null,
      "outputs": []
    },
    {
      "cell_type": "code",
      "source": [
        "from abc import ABC , abstractmethod\n",
        "class animal(ABC):\n",
        "  @abstractmethod\n",
        "  def sound(self):\n",
        "    pass\n",
        "class dog(animal):\n",
        "   def sound(self):\n",
        "    return \"bark\"\n",
        "class cat(animal):\n",
        "   def sound(self):\n",
        "    return \"meow\"\n",
        "\n",
        "d=dog()\n",
        "c=cat()\n",
        "print(d.sound())\n",
        "print(c.sound())\n",
        "# a=animal()\n",
        "\n"
      ],
      "metadata": {
        "colab": {
          "base_uri": "https://localhost:8080/"
        },
        "id": "8yGXhr3GFGtl",
        "outputId": "7663a805-b0a3-4b4c-dc96-3e7f1eb3b252"
      },
      "execution_count": null,
      "outputs": [
        {
          "output_type": "stream",
          "name": "stdout",
          "text": [
            "bark\n",
            "meow\n"
          ]
        }
      ]
    },
    {
      "cell_type": "markdown",
      "source": [
        "#Abstract Class with multiple methods\n"
      ],
      "metadata": {
        "id": "y-PzaZC8JSnD"
      }
    },
    {
      "cell_type": "code",
      "source": [
        "from abc import ABC , abstractmethod\n",
        "class shape(ABC):\n",
        "  @abstractmethod\n",
        "  def area(self):\n",
        "    pass\n",
        "  @abstractmethod\n",
        "  def perimeter(self):\n",
        "    pass\n",
        "class circle(shape):\n",
        "   def __init__(self,radius):\n",
        "    self.radius=radius\n",
        "   def area(self):\n",
        "      return 3.14*self.radius**2\n",
        "   def perimeter(self):\n",
        "      return 3.14*2*self.radius\n",
        "c= circle(5)\n",
        "print(c.area())\n",
        "print(c.perimeter())\n",
        "\n",
        "\n"
      ],
      "metadata": {
        "colab": {
          "base_uri": "https://localhost:8080/"
        },
        "id": "WuREsGKrKGhP",
        "outputId": "50dcb190-ce4c-45fb-bea5-b6b88ab00e0d"
      },
      "execution_count": null,
      "outputs": [
        {
          "output_type": "stream",
          "name": "stdout",
          "text": [
            "78.5\n",
            "31.400000000000002\n"
          ]
        }
      ]
    },
    {
      "cell_type": "markdown",
      "source": [
        "#Using Abstraction for Consistency"
      ],
      "metadata": {
        "id": "1A7Rl8c4N6BN"
      }
    },
    {
      "cell_type": "code",
      "source": [
        "from abc import ABC, abstractmethod\n",
        "class payment(ABC):\n",
        "  @abstractmethod\n",
        "  def pay(self,amount):\n",
        "    pass\n",
        "\n",
        "class creditcard(payment):\n",
        "   def pay(self,amount):\n",
        "    print(f\"paid {amount} using credit card\")\n",
        "\n",
        "class upi(payment):\n",
        "   def pay(self,amount):\n",
        "    print(f\"paid {amount}  using upi\")\n",
        "\n",
        "p1=creditcard()\n",
        "p2=upi()\n",
        "p1.pay(500)\n",
        "p2.pay(1000)"
      ],
      "metadata": {
        "colab": {
          "base_uri": "https://localhost:8080/"
        },
        "id": "g7FjFCp4ORbK",
        "outputId": "932aac3e-dc9c-4850-e407-963bbf554bef"
      },
      "execution_count": null,
      "outputs": [
        {
          "output_type": "stream",
          "name": "stdout",
          "text": [
            "paid 500 using credit card\n",
            "paid 1000  using upi\n"
          ]
        }
      ]
    }
  ]
}