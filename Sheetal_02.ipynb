{
  "nbformat": 4,
  "nbformat_minor": 0,
  "metadata": {
    "colab": {
      "provenance": []
    },
    "kernelspec": {
      "name": "python3",
      "display_name": "Python 3"
    },
    "language_info": {
      "name": "python"
    }
  },
  "cells": [
    {
      "cell_type": "markdown",
      "source": [
        "#SLICING"
      ],
      "metadata": {
        "id": "sG_y0Px20QCg"
      }
    },
    {
      "cell_type": "code",
      "source": [
        "s='Shreyas studies at MASAI and dream of IIT Guwahati'\n",
        "print(s[0:7])"
      ],
      "metadata": {
        "colab": {
          "base_uri": "https://localhost:8080/"
        },
        "id": "3wwBbpffOs6w",
        "outputId": "bffefafb-e37a-471b-fa2d-77479751f483"
      },
      "execution_count": null,
      "outputs": [
        {
          "output_type": "stream",
          "name": "stdout",
          "text": [
            "Shreyas\n"
          ]
        }
      ]
    },
    {
      "cell_type": "code",
      "source": [
        "# extract the word MASAI\n",
        "s='NSDC and MASAI are skill partners'\n",
        "print(s[9:14])"
      ],
      "metadata": {
        "colab": {
          "base_uri": "https://localhost:8080/"
        },
        "id": "T3mZ9kO4QDA5",
        "outputId": "3f1e5453-8146-4c9f-e1b4-f98856cf07a1"
      },
      "execution_count": null,
      "outputs": [
        {
          "output_type": "stream",
          "name": "stdout",
          "text": [
            "MASAI\n"
          ]
        }
      ]
    },
    {
      "cell_type": "code",
      "source": [
        "# print the third word using indexing\n",
        "lst=['Shreyas','MASAI','IIT Guwahati','NSDC']\n",
        "print(lst[2])"
      ],
      "metadata": {
        "colab": {
          "base_uri": "https://localhost:8080/"
        },
        "id": "ix4tTSfpQ1ug",
        "outputId": "005fcc55-1c19-4aa7-b5ca-45ff65b11c44"
      },
      "execution_count": null,
      "outputs": [
        {
          "output_type": "stream",
          "name": "stdout",
          "text": [
            "IIT Guwahati\n"
          ]
        }
      ]
    },
    {
      "cell_type": "code",
      "source": [
        "print(lst[-2])"
      ],
      "metadata": {
        "colab": {
          "base_uri": "https://localhost:8080/"
        },
        "id": "cgv8yB6fR9Zb",
        "outputId": "2946d8c3-bd01-420e-e213-ea67204cf9f4"
      },
      "execution_count": null,
      "outputs": [
        {
          "output_type": "stream",
          "name": "stdout",
          "text": [
            "IIT Guwahati\n"
          ]
        }
      ]
    },
    {
      "cell_type": "code",
      "source": [
        "# print last element usind negative indexing\n",
        "tup=('NSDC','Shreyas','MASAI','IIT Guwahati')\n",
        "print(tup[-1])"
      ],
      "metadata": {
        "colab": {
          "base_uri": "https://localhost:8080/"
        },
        "id": "_biYZ3c4SCV8",
        "outputId": "b14a7112-96c3-4b2a-d37c-034690674e11"
      },
      "execution_count": null,
      "outputs": [
        {
          "output_type": "stream",
          "name": "stdout",
          "text": [
            "IIT Guwahati\n"
          ]
        }
      ]
    },
    {
      "cell_type": "code",
      "source": [
        "# from the dictionary print the value asociated with name\n",
        "d={'name':'Shreyas','institute':'MASAI'}\n",
        "print(d['name'])"
      ],
      "metadata": {
        "colab": {
          "base_uri": "https://localhost:8080/"
        },
        "id": "6YaNNUdKSsBq",
        "outputId": "db192361-8856-4f3b-d845-08c308a60af9"
      },
      "execution_count": null,
      "outputs": [
        {
          "output_type": "stream",
          "name": "stdout",
          "text": [
            "Shreyas\n"
          ]
        }
      ]
    },
    {
      "cell_type": "code",
      "source": [
        "# print characters from 4 to 13 using slicing\n",
        "s='IIT Guwahati and NSDC work together'\n",
        "print(s[4:13])"
      ],
      "metadata": {
        "colab": {
          "base_uri": "https://localhost:8080/"
        },
        "id": "xN74EBjoVGZY",
        "outputId": "e67d2eda-edb4-444d-8765-6d38a1c714e7"
      },
      "execution_count": null,
      "outputs": [
        {
          "output_type": "stream",
          "name": "stdout",
          "text": [
            "Guwahati \n"
          ]
        }
      ]
    },
    {
      "cell_type": "code",
      "source": [
        "#check if x grater than y and print result\n",
        "x=10\n",
        "y=5\n",
        "if x>y:\n",
        "    print(True)\n",
        "else:\n",
        "    print(False)"
      ],
      "metadata": {
        "colab": {
          "base_uri": "https://localhost:8080/"
        },
        "id": "ymuYIPdoVxAr",
        "outputId": "2a30ff47-a91b-4242-9320-b5a8e33ac273"
      },
      "execution_count": null,
      "outputs": [
        {
          "output_type": "stream",
          "name": "stdout",
          "text": [
            "True\n"
          ]
        }
      ]
    },
    {
      "cell_type": "code",
      "source": [
        "# PRINT the result of a==b and a==c\n",
        "a=1\n",
        "b=True\n",
        "c=False\n",
        "print(a==b)\n",
        "print(a==c)"
      ],
      "metadata": {
        "colab": {
          "base_uri": "https://localhost:8080/"
        },
        "id": "wv8yVTsfWQ2d",
        "outputId": "9b74468a-0729-488b-a6cb-e57169dc22d6"
      },
      "execution_count": null,
      "outputs": [
        {
          "output_type": "stream",
          "name": "stdout",
          "text": [
            "True\n",
            "False\n"
          ]
        }
      ]
    },
    {
      "cell_type": "code",
      "source": [
        "# create a set with some elements and print it\n",
        "set = {'Shreyas','MASAI','NSDC'}\n",
        "print(set)"
      ],
      "metadata": {
        "colab": {
          "base_uri": "https://localhost:8080/"
        },
        "id": "EP2hMTZ8W7V8",
        "outputId": "989cc3c7-96c2-4bc3-a8d9-b514428b5ef1"
      },
      "execution_count": null,
      "outputs": [
        {
          "output_type": "stream",
          "name": "stdout",
          "text": [
            "{'NSDC', 'MASAI', 'Shreyas'}\n"
          ]
        }
      ]
    },
    {
      "cell_type": "code",
      "source": [
        "# check if both variables contain letter'S' and print the result\n",
        "name='Shreyas'\n",
        "org='NSDC'\n",
        "if 'S' in name and 'S' in org:\n",
        "    print(\"both variables contain the letter 'S'\")\n",
        "else:\n",
        "    print(\"not both variables contain the letter's'\")\n"
      ],
      "metadata": {
        "colab": {
          "base_uri": "https://localhost:8080/"
        },
        "id": "cSuVg96WXr1C",
        "outputId": "bd156fbc-6195-40ea-d286-edd47229e26b"
      },
      "execution_count": null,
      "outputs": [
        {
          "output_type": "stream",
          "name": "stdout",
          "text": [
            "both variables contain the letter 'S'\n"
          ]
        }
      ]
    },
    {
      "cell_type": "code",
      "source": [
        "# print the type of variable s\n",
        "s= 'MASAI School'\n",
        "type(s)"
      ],
      "metadata": {
        "colab": {
          "base_uri": "https://localhost:8080/"
        },
        "id": "X_-aye5va12k",
        "outputId": "4477430f-47f4-4200-fa6d-366d5e3a09b9"
      },
      "execution_count": null,
      "outputs": [
        {
          "output_type": "execute_result",
          "data": {
            "text/plain": [
              "str"
            ]
          },
          "metadata": {},
          "execution_count": 13
        }
      ]
    },
    {
      "cell_type": "code",
      "source": [
        "# convert a string into the list of character and print it\n",
        "s='Shreyas'\n",
        "lst=list(s)\n",
        "print(lst)\n"
      ],
      "metadata": {
        "colab": {
          "base_uri": "https://localhost:8080/"
        },
        "id": "1aaR5ykubd12",
        "outputId": "36786e2f-100d-46de-ed55-e7f71be8e26e"
      },
      "execution_count": null,
      "outputs": [
        {
          "output_type": "stream",
          "name": "stdout",
          "text": [
            "['S', 'h', 'r', 'e', 'y', 'a', 's']\n"
          ]
        }
      ]
    },
    {
      "cell_type": "code",
      "source": [
        "# add a word to the list & print the updated list\n",
        "lst=['MASAI','NSDC']\n",
        "lst.append('Shreyas')\n",
        "print(lst)\n"
      ],
      "metadata": {
        "colab": {
          "base_uri": "https://localhost:8080/"
        },
        "id": "ibGzpCMVb334",
        "outputId": "def0aca1-5195-4799-9d94-8c97bcd17ff2"
      },
      "execution_count": null,
      "outputs": [
        {
          "output_type": "stream",
          "name": "stdout",
          "text": [
            "['MASAI', 'NSDC', 'Shreyas']\n"
          ]
        }
      ]
    },
    {
      "cell_type": "code",
      "source": [],
      "metadata": {
        "id": "BI4VqSniclqU"
      },
      "execution_count": null,
      "outputs": []
    }
  ]
}